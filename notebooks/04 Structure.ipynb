{
 "cells": [
  {
   "cell_type": "markdown",
   "metadata": {
    "deletable": true,
    "editable": true
   },
   "source": [
    "# Structuring a Model\n",
    "In this notebook we do not add any new functionality to the model code, but instead work on improving the code itself.\n",
    "\n",
    "In the first code block, we create a new type `Model` which is a `namedtuple` that contains the tensors relevant for our model. We could just use a regular tuple here, but the named tuple disambiguates the different entries to make the code more easily readable."
   ]
  },
  {
   "cell_type": "code",
   "execution_count": null,
   "metadata": {
    "collapsed": true,
    "deletable": true,
    "editable": true
   },
   "outputs": [],
   "source": [
    "import tensorflow as tf\n",
    "import tensorflow.contrib.learn as tflearn\n",
    "import numpy as np\n",
    "from collections import namedtuple\n",
    "\n",
    "NUM_EPISODES = 10\n",
    "RESTORE = False\n",
    "\n",
    "Model = namedtuple(\"Model\", [\"logits\", \"probabilities\", \"loss\", \"train_step\"])"
   ]
  },
  {
   "cell_type": "markdown",
   "metadata": {
    "deletable": true,
    "editable": true
   },
   "source": [
    "## Model Function\n",
    "We have moved the code for building into its own function. For better readability separate logical parts of the model into their own functions."
   ]
  },
  {
   "cell_type": "markdown",
   "metadata": {
    "deletable": true,
    "editable": true
   },
   "source": [
    "### accuracy\n",
    "This function calculates the accuracy of predictions. \n",
    "It puts all operations into a name scope to get a more readable graph (There is no need for a `VariableScope` here as there are no Variables). \n",
    "The `name_scope` function takes an optional second argument which is a list of tensors we want to use within this scope. Usually this can be omitted.\n",
    "\n",
    "The calculation of the accuracy is done like this: First we calculate the prediced class (as an integer), and compare that to the given labels. This results in a boolean tensor, so before we calculate the mean we cast it to a floating point type."
   ]
  },
  {
   "cell_type": "code",
   "execution_count": null,
   "metadata": {
    "collapsed": true,
    "deletable": true,
    "editable": true
   },
   "outputs": [],
   "source": [
    "def accuracy(logits, labels, name=\"accuracy\"):\n",
    "    with tf.name_scope(name, [logits, labels]):\n",
    "        predicted = tf.argmax(logits, axis=1, name=\"predicted\")\n",
    "        correct = tf.equal(tf.cast(predicted, tf.int32), labels, name=\"is_correct\")\n",
    "        return tf.reduce_mean(tf.cast(correct, tf.float32), name=\"accuracy\")"
   ]
  },
  {
   "cell_type": "markdown",
   "metadata": {
    "deletable": true,
    "editable": true
   },
   "source": [
    "### model_fn\n",
    "We have put the code that builds the model graph inside its own function `model_fn`. We have kept the inputs `x` and `y` as parameters to that function. This separates the model definition from the way we provide inputs to that model. We can simply pass the placeholder tensors we have used until now and continue with the same behaviour as before, but we also could build a more advanced input processing and pass the resulting `x` and `y` tensors into the model function.\n",
    "\n",
    "Since we return many different tensors, we do not use multiple return values in a tuple, but populate the `Model` namedtuple from above with the correct tensors.\n",
    "\n",
    "We have also changed the creation of Variables to use `tf.get_variable` instead of `tf.Variable`and provide an initialization function to supply the initial value (`tf.initializers.random_uniform()` returns a function that is called within `get_variable`). Whereas `tf.get_variable` only becomes really important when coding functions that might be reused within models, it seems to be best practice to always use `tf.get_variable`."
   ]
  },
  {
   "cell_type": "code",
   "execution_count": null,
   "metadata": {
    "collapsed": true,
    "deletable": true,
    "editable": true
   },
   "outputs": [],
   "source": [
    "def model_fn(x, y):\n",
    "    tf.summary.image(\"image\", tf.reshape(x, (-1, 28, 28, 1)))\n",
    "    W = tf.get_variable(\"W\", shape=(784, 10), dtype=tf.float32, initializer=tf.initializers.random_uniform())\n",
    "    b = tf.get_variable(\"b\", shape=(10,), dtype=tf.float32, initializer=tf.initializers.random_uniform())\n",
    "    l = tf.matmul(x, W) + b\n",
    "    tf.summary.histogram(\"logits\", l)\n",
    "    p = tf.nn.softmax(l)\n",
    "    tf.summary.histogram(\"probabilities\", p)\n",
    "    \n",
    "    with tf.name_scope(\"loss_calculation\"):\n",
    "        loss = tf.nn.softmax_cross_entropy_with_logits(labels=tf.one_hot(y, depth=10), logits=l)\n",
    "        loss = tf.reduce_mean(loss)\n",
    "    \n",
    "    tf.summary.scalar(\"loss\", loss)\n",
    "    tf.summary.scalar(\"accuracy\", accuracy(l, y))\n",
    "\n",
    "    optimizer = tf.train.GradientDescentOptimizer(0.1)\n",
    "    global_step = tf.train.create_global_step()\n",
    "    train_op = optimizer.minimize(loss, global_step=global_step)\n",
    "    \n",
    "    return Model(logits=l, probabilities=p, loss=loss, train_step=train_op)"
   ]
  },
  {
   "cell_type": "markdown",
   "metadata": {
    "deletable": true,
    "editable": true
   },
   "source": [
    "# Graph Building\n",
    "Here we build the model. We create a new `Graph` object, and use this as the default graph for the building. This way, we do not pollute the global default graph, and when we execute this cell multiple times we always get a new graph of the complete model, instead of adding to the global graph. \n",
    "\n",
    "We create the placeholders as before and apply `model_fn`, and also add the other \"infrastructure\" operations. Note in particular that the Saver also has to be created inside the `with` block as it adds operations to the Graph and needs access to the `tf.GraphKeys.GLOBAL_VARIABLES` collection to figure out what it is supposed to save."
   ]
  },
  {
   "cell_type": "code",
   "execution_count": null,
   "metadata": {
    "collapsed": false,
    "deletable": true,
    "editable": true
   },
   "outputs": [],
   "source": [
    "graph = tf.Graph()\n",
    "with graph.as_default():\n",
    "    x = tf.placeholder(tf.float32, (None, 784), name=\"x\")\n",
    "    y = tf.placeholder(tf.int32, (None), name=\"y\")\n",
    "    _, _, loss, train_op = model_fn(x, y)\n",
    "    summaries = tf.summary.merge_all()\n",
    "    init = tf.global_variables_initializer()\n",
    "    saver = tf.train.Saver()"
   ]
  },
  {
   "cell_type": "markdown",
   "metadata": {
    "deletable": true,
    "editable": true
   },
   "source": [
    "This is unchanged."
   ]
  },
  {
   "cell_type": "code",
   "execution_count": null,
   "metadata": {
    "collapsed": false,
    "deletable": true,
    "editable": true
   },
   "outputs": [],
   "source": [
    "# load the dataset and create a session\n",
    "mnist = tflearn.datasets.load_dataset(\"mnist\")\n",
    "images = mnist.train.images\n",
    "labels = mnist.train.labels\n",
    "\n",
    "writer = tf.summary.FileWriter(\"structure_demo\", graph)"
   ]
  },
  {
   "cell_type": "markdown",
   "metadata": {
    "deletable": true,
    "editable": true
   },
   "source": [
    "## Training Loop\n",
    "We have put the training loop inside a `tf.Session` with-block. This ensures that the session will be closed after this cell is executed. Since we no longer build the model in the global default graph, we need to explicitly pass the graph object to the newly created session. "
   ]
  },
  {
   "cell_type": "code",
   "execution_count": null,
   "metadata": {
    "collapsed": false,
    "deletable": true,
    "editable": true
   },
   "outputs": [],
   "source": [
    "with tf.Session(graph=graph) as session:\n",
    "    if RESTORE:\n",
    "        saver.restore(session, tf.train.latest_checkpoint(\"structure_demo\"))\n",
    "    else:\n",
    "        init.run()\n",
    "    \n",
    "    for i in range(NUM_EPISODES):\n",
    "        summary, _, step = session.run([summaries, train_op, tf.train.get_global_step()], {x: images, y: labels})\n",
    "        writer.add_summary(summary, step)\n",
    "\n",
    "    saver.save(session, \"structure_demo/model\", tf.train.global_step(session, tf.train.get_global_step()))\n",
    "    writer.close()"
   ]
  },
  {
   "cell_type": "markdown",
   "metadata": {
    "deletable": true,
    "editable": true
   },
   "source": [
    "## Graph Collections\n",
    "For such a simple model, there is no need to manually work with graph collections. However, they provide the glue that is used to let many higher level tf facilities \"magically\" perform the right thing. We have used them indirectly for\n",
    " * handling the global step (GLOBAL_STEP)\n",
    " * the optimizer choice on which Variables to optimize (TRAINABLE_VARIABLES)\n",
    " * the Variables that are initialized by global_variables_initializer and save by Saver (GLOBAL_VARIABLES)\n",
    " * the Tensors merged by `summary.merge_all` (SUMMARIES)\n",
    " \n",
    " However, we can at least take a look at the values that have been automatically assinged to the collections. To get prettier printing, we extract the tensor names."
   ]
  },
  {
   "cell_type": "code",
   "execution_count": null,
   "metadata": {
    "collapsed": false,
    "deletable": true,
    "editable": true
   },
   "outputs": [],
   "source": [
    "collections = (tf.GraphKeys.GLOBAL_VARIABLES, tf.GraphKeys.TRAINABLE_VARIABLES, \n",
    "               tf.GraphKeys.SUMMARIES, tf.GraphKeys.GLOBAL_STEP)\n",
    "for c in collections:\n",
    "    vals = [str(t.name) for t in graph.get_collection(c)]\n",
    "    print(\"'%s' = %s\" % (c, vals))"
   ]
  },
  {
   "cell_type": "markdown",
   "metadata": {
    "deletable": true,
    "editable": true
   },
   "source": [
    "## Closing Remarks\n",
    "The separation in `model_fn` and input, graph collections etc. seem a bit overkill for a model this small, but become invaluable when models become more complex."
   ]
  },
  {
   "cell_type": "code",
   "execution_count": null,
   "metadata": {
    "collapsed": true,
    "deletable": true,
    "editable": true
   },
   "outputs": [],
   "source": []
  }
 ],
 "metadata": {
  "kernelspec": {
   "display_name": "Python 3",
   "language": "python",
   "name": "python3"
  },
  "language_info": {
   "codemirror_mode": {
    "name": "ipython",
    "version": 3
   },
   "file_extension": ".py",
   "mimetype": "text/x-python",
   "name": "python",
   "nbconvert_exporter": "python",
   "pygments_lexer": "ipython3",
   "version": "3.5.2"
  }
 },
 "nbformat": 4,
 "nbformat_minor": 2
}
